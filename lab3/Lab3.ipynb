{
 "cells": [
  {
   "cell_type": "markdown",
   "metadata": {},
   "source": [
    "# LAB 3 - Matheus Gomes Maia\n",
    "## ATIVIDADE\n",
    "* 1 Escolha uma estratégia de tokenização para a coleção que você está usando e justifique sua estratégia. É importante que você inclua decisões adicionais em relação ao que foi feito no Laboratório anterior (por exemplo, tratamento de maiúsculas/minúsculas e strings numéricas) (5 pts).\n",
    "* 2 Refaça a questão 2 do Laboratório anterior usando os tokens produzidos (5 pts).\n",
    "* 3 Aplique Stemming nos tokens produzidos e encontre 10 exemplos de falsos positivos e 10 exemplos de falsos negativos. Que impacto você acha que falsos positivos e negativos, como esses, teriam no processamento de consultas? Dê exemplos. (5 pts).\n",
    "* 4 Refaça a questão 3 do Laboratório anterior usando os tokens stemizados. Você percebeu alguma diferença em relação aos tokens sem stemming? Se sim, quais? (10 pts.)\n"
   ]
  },
  {
   "cell_type": "code",
   "execution_count": 17,
   "metadata": {},
   "outputs": [
    {
     "name": "stderr",
     "output_type": "stream",
     "text": [
      "[nltk_data] Downloading package punkt to /home/maia/nltk_data...\n",
      "[nltk_data]   Package punkt is already up-to-date!\n"
     ]
    },
    {
     "data": {
      "text/plain": [
       "True"
      ]
     },
     "execution_count": 17,
     "metadata": {},
     "output_type": "execute_result"
    }
   ],
   "source": [
    "import pandas as pd\n",
    "import numpy as np\n",
    "import matplotlib.pyplot as plt\n",
    "import nltk\n",
    "import string\n",
    "import re\n",
    "from scipy.optimize import minimize_scalar\n",
    "import seaborn as sns\n",
    "pd.set_option(\"display.max_rows\",40)\n",
    "\n",
    "%matplotlib inline\n",
    "nltk.download('punkt')"
   ]
  },
  {
   "cell_type": "markdown",
   "metadata": {},
   "source": [
    "## 1 Escolha uma estratégia de tokenização para a coleção que você está usando e justifique sua estratégia. É importante que você inclua decisões adicionais em relação ao que foi feito no Laboratório anterior (por exemplo, tratamento de maiúsculas/minúsculas e strings numéricas) (5 pts)."
   ]
  },
  {
   "cell_type": "markdown",
   "metadata": {},
   "source": [
    "#### Na atividade anterior eu utilizei a minha base, nessa vou utilizar a disponibilizada. Para fazer algo diferente e também porque a minha tinha duplicatas.\n",
    "\n",
    "### Etapas feitas:\n",
    "* Carregar csv\n",
    "* Utilizar a função de tokenização do nltk.word_tokenize\n",
    "* Filtrar palavras com digitos e com tamanho menor que 3\n",
    "* Transformar tudo para minúsculas"
   ]
  },
  {
   "cell_type": "code",
   "execution_count": 10,
   "metadata": {},
   "outputs": [],
   "source": [
    "\n",
    "data = pd.read_csv('../results_fornecida.csv')\n",
    "data = data.drop_duplicates(subset='url', keep='last')\n",
    "\n",
    "\n",
    "#Pre process news\n",
    "# Tokenize, Join and Filter\n",
    "# Words into a new data Frame\n",
    "txt = [str(news) for news in data[\"text\"].tolist()]\n",
    "words = [nltk.word_tokenize(sentence) for sentence in txt]\n",
    "words = [item for sublist in words for item in sublist] \n",
    "words = [word.lower() for word in words if (word.isalpha() and len(word)) > 2] \n",
    "\n",
    "# New Data frame with Word, Frequency and Ranking columns \n",
    "words_df = pd.DataFrame(words, columns=['word']) #All words\n",
    "word_counts = words_df.word.value_counts().reset_index() #Join by word. Adds Frequency\n",
    "word_counts.columns = ['Word', 'Freq'] #Naming columns \n",
    "word_counts['word_rank'] = word_counts.Freq.rank(ascending=False) #Adds ranking"
   ]
  },
  {
   "cell_type": "markdown",
   "metadata": {},
   "source": [
    "## 2  Refaça a questão 2 do Laboratório anterior usando os tokens produzidos (5 pts)."
   ]
  },
  {
   "cell_type": "code",
   "execution_count": 19,
   "metadata": {},
   "outputs": [
    {
     "name": "stdout",
     "output_type": "stream",
     "text": [
      "          Word  Freq  word_rank  Prob. Per cent      Prob\n",
      "0          que  6549        1.0        4.378405  0.043784\n",
      "1         para  2301        2.0        1.538359  0.015384\n",
      "2          uma  2201        3.0        1.471503  0.014715\n",
      "3          com  2171        4.0        1.451446  0.014514\n",
      "4          não  2023        5.0        1.352499  0.013525\n",
      "5          por  1336        6.0        0.893197  0.008932\n",
      "6         como  1310        7.0        0.875815  0.008758\n",
      "7         mais  1199        8.0        0.801605  0.008016\n",
      "8          dos  1061        9.0        0.709343  0.007093\n",
      "9          mas   939       10.0        0.627779  0.006278\n",
      "10         sua   806       11.0        0.538860  0.005389\n",
      "11         foi   755       12.0        0.504763  0.005048\n",
      "12         das   711       13.0        0.475347  0.004753\n",
      "13         seu   699       14.0        0.467324  0.004673\n",
      "14        anos   574       15.0        0.383754  0.003838\n",
      "15         ser   504       16.0        0.336955  0.003370\n",
      "16      também   494       17.0        0.330269  0.003303\n",
      "17         são   488       18.0        0.326258  0.003263\n",
      "18        pelo   486       19.0        0.324921  0.003249\n",
      "19        pela   465       20.0        0.310881  0.003109\n",
      "20         nos   462       21.0        0.308875  0.003089\n",
      "21         ele   444       22.0        0.296841  0.002968\n",
      "22        isso   438       23.0        0.292830  0.002928\n",
      "23       sobre   420       24.0        0.280796  0.002808\n",
      "24       entre   411       25.0        0.274779  0.002748\n",
      "25      quando   396       26.0        0.264750  0.002648\n",
      "26       muito   395       27.0        0.264082  0.002641\n",
      "27        está   376       28.0        0.251379  0.002514\n",
      "28  presidente   367       29.0        0.245362  0.002454\n",
      "29         era   360       30.0        0.240682  0.002407\n",
      "30   bolsonaro   352       31.0        0.235333  0.002353\n",
      "31     governo   348       32.0        0.232659  0.002327\n",
      "32         tem   343       33.0        0.229316  0.002293\n",
      "33      depois   328       34.5        0.219288  0.002193\n",
      "34       ainda   328       34.5        0.219288  0.002193\n",
      "35        seus   326       36.0        0.217951  0.002180\n",
      "36        país   324       37.0        0.216614  0.002166\n",
      "37      brasil   323       38.0        0.215945  0.002159\n",
      "38         até   316       39.0        0.211265  0.002113\n",
      "39         nas   299       40.0        0.199900  0.001999\n",
      "40         aos   285       41.0        0.190540  0.001905\n",
      "41         sem   278       42.0        0.185860  0.001859\n",
      "42         ter   256       43.0        0.171152  0.001712\n",
      "43      porque   239       44.5        0.159786  0.001598\n",
      "44        suas   239       44.5        0.159786  0.001598\n",
      "45      contra   235       46.5        0.157112  0.001571\n",
      "46     pessoas   235       46.5        0.157112  0.001571\n",
      "47        essa   230       48.0        0.153769  0.001538\n",
      "48        dois   228       49.0        0.152432  0.001524\n",
      "49       mesmo   225       50.0        0.150426  0.001504\n"
     ]
    }
   ],
   "source": [
    "total_words = len(words)\n",
    "# Prob = Frequency/Total of words\n",
    "word_counts['Prob. Per cent'] = (word_counts.Freq/total_words)*100\n",
    "word_counts['Prob'] = word_counts.Freq/total_words\n",
    "\n",
    "pd.set_option(\"display.max_rows\",100)\n",
    "print(word_counts[word_counts['word_rank'] <= 50])\n",
    "pd.set_option(\"display.max_rows\",40)"
   ]
  },
  {
   "cell_type": "markdown",
   "metadata": {},
   "source": [
    "## 3 Aplique Stemming nos tokens produzidos e encontre 10 exemplos de falsos positivos e 10 exemplos de falsos negativos. Que impacto você acha que falsos positivos e negativos, como esses, teriam no processamento de consultas? Dê exemplos. (5 pts)."
   ]
  },
  {
   "cell_type": "code",
   "execution_count": 71,
   "metadata": {},
   "outputs": [],
   "source": [
    "from nltk.stem.porter import *\n",
    "stemmer = PorterStemmer()\n",
    "steam_words_dict = {}\n",
    "for word in word_counts.Word:\n",
    "    stem = stemmer.stem(word)\n",
    "    steam_words_dict.setdefault(stem, []).append(word)\n",
    "teste= (sorted(steam_words_dict, key=lambda k: len(steam_words_dict[k]), reverse=True))"
   ]
  },
  {
   "cell_type": "code",
   "execution_count": 66,
   "metadata": {},
   "outputs": [
    {
     "data": {
      "text/plain": [
       "'\\nfor top in range(50):\\n    print(teste[top],steam_words_dict[teste[top]])\\nprint(\"-----------------------\")\\nfor key in sorted(steam_words_dict.keys()):\\n    print(\"%s: %s\" % (key, steam_words_dict[key]))'"
      ]
     },
     "execution_count": 66,
     "metadata": {},
     "output_type": "execute_result"
    }
   ],
   "source": [
    "# Experimentos para achar FN e FP\n",
    "'''\n",
    "for top in range(50):\n",
    "    print(teste[top],steam_words_dict[teste[top]])\n",
    "print(\"-----------------------\")\n",
    "for key in sorted(steam_words_dict.keys()):\n",
    "    print(\"%s: %s\" % (key, steam_words_dict[key]))'''"
   ]
  },
  {
   "cell_type": "markdown",
   "metadata": {},
   "source": [
    "### Exemplos de Falsos Positivos e Negativos--\n",
    "\n",
    "> ## Falsos Positivos. Palavras que não deveriam estar juntas:\n",
    "* autor ['autor', 'autores', **'autorize'**, 'autoral'] \n",
    "* universidad ['universidade', 'universidades', 'universidad']\n",
    "* orient ['oriental', **'orientou'**, 'oriente']\n",
    "* super ['superou', 'supere', **'super'**]\n",
    "\n",
    "***\n",
    "\n",
    "> ## Falsos Negativos. Palavras que deveriam estar juntas:\n",
    "* aberta: ['aberta', 'abertas']\n",
    "* abertament: ['abertamente']\n",
    "* abord: ['aborde', 'abordou']\n",
    "* aborda: ['aborda']\n",
    "* abordada: ['abordadas']\n",
    "* abordado: ['abordado', 'abordados']\n",
    "* abrimo: ['abrimos']\n",
    "* abrindo: ['abrindo']\n",
    "* abrir: ['abrir']\n",
    "* abriram: ['abriram']\n",
    "* abririam: ['abririam']\n",
    "* abrirá: ['abrirá']\n",
    "* teórica: ['teórica']\n",
    "* teórico: ['teórico', 'teóricos']\n",
    "\n",
    "### Falsos positivos e negativos prejudicam as consultas\n",
    "> ## Falsos postitivos\n",
    "* Ao pesquisar por X termos semãnticamente diferentes de X vão aparecer na consulta.\n",
    "* Exemplo: Pesquisar por autor de um livro X e receber na consulta uma página sobre autorização da distribuição do livro em universidades\n",
    "***\n",
    "> ## Falsos negativos\n",
    "* Ao pesquisar por X termos semãnticamente semelhantes ao de X não vão aparecer na consulta.\n",
    "* Exemplo: Pesquisar por \"física teórica\" e não receber páginas sobre os físicos teróricos."
   ]
  },
  {
   "cell_type": "markdown",
   "metadata": {},
   "source": [
    "## 4 Refaça a questão 3 do Laboratório anterior usando os tokens stemizados. Você percebeu alguma diferença em relação aos tokens sem stemming? Se sim, quais? (10 pts.)"
   ]
  },
  {
   "cell_type": "code",
   "execution_count": 75,
   "metadata": {},
   "outputs": [],
   "source": [
    "steam_words_list = []\n",
    "for word in words:\n",
    "    stem = stemmer.stem(word)\n",
    "    steam_words_list.append(stem)\n",
    "    \n",
    "stem_df = pd.DataFrame(steam_words_list, columns=['stem'])\n",
    "# New Data Frame with stem, frequency and ranking\n",
    "stem_counts = stem_df.stem.value_counts().reset_index()\n",
    "stem_counts.columns = ['stem', 'Freq']\n",
    "stem_counts['stem_rank'] = stem_counts.Freq.rank(ascending=False)\n",
    "total_stem = len(stem_counts.index)\n",
    "stem_counts['Prob'] = stem_counts.Freq/total_stem\n"
   ]
  },
  {
   "cell_type": "code",
   "execution_count": 80,
   "metadata": {},
   "outputs": [],
   "source": [
    "#Find best C usig only mean\n",
    "word_counts['rPr'] = (word_counts.word_rank*word_counts.Prob)\n",
    "stem_counts['rPr'] = (stem_counts.stem_rank*stem_counts.Prob)\n",
    "\n",
    "\n",
    "word_counts['C'] = np.mean(word_counts.rPr) / word_counts.Prob\n",
    "stem_counts['C'] = np.mean(stem_counts.rPr) / stem_counts.Prob\n"
   ]
  },
  {
   "cell_type": "code",
   "execution_count": 83,
   "metadata": {},
   "outputs": [
    {
     "data": {
      "text/plain": [
       "<matplotlib.axes._subplots.AxesSubplot at 0x7f8bdbea54a8>"
      ]
     },
     "execution_count": 83,
     "metadata": {},
     "output_type": "execute_result"
    },
    {
     "data": {
      "image/png": "[encoded data removed]",
      "text/plain": [
       "<Figure size 504x504 with 1 Axes>"
      ]
     },
     "metadata": {
      "needs_background": "light"
     },
     "output_type": "display_data"
    },
    {
     "data": {
      "image/png": "[encoded data removed]",
      "text/plain": [
       "<Figure size 504x504 with 1 Axes>"
      ]
     },
     "metadata": {
      "needs_background": "light"
     },
     "output_type": "display_data"
    }
   ],
   "source": [
    "f, ax = plt.subplots(figsize=(7, 7))\n",
    "ax.set(xscale=\"log\", yscale=\"log\")\n",
    "sns.regplot(\"stem_rank\", \"Freq\", stem_counts, ax=ax, scatter_kws={\"s\": 100})\n",
    "sns.lineplot(stem_counts['Freq'], stem_counts['C'])\n",
    "\n",
    "f, ax = plt.subplots(figsize=(7, 7))\n",
    "ax.set(xscale=\"log\", yscale=\"log\")\n",
    "sns.regplot(\"word_rank\", \"Freq\", word_counts, ax=ax, scatter_kws={\"s\": 100})\n",
    "sns.lineplot(word_counts['Freq'], word_counts['C'])\n"
   ]
  },
  {
   "cell_type": "markdown",
   "metadata": {},
   "source": [
    "A diferença nos gráficos é minima."
   ]
  }
 ],
 "metadata": {
  "kernelspec": {
   "display_name": "lab2env",
   "language": "python",
   "name": "lab2env"
  },
  "language_info": {
   "codemirror_mode": {
    "name": "ipython",
    "version": 3
   },
   "file_extension": ".py",
   "mimetype": "text/x-python",
   "name": "python",
   "nbconvert_exporter": "python",
   "pygments_lexer": "ipython3",
   "version": "3.5.2"
  }
 },
 "nbformat": 4,
 "nbformat_minor": 2
}
