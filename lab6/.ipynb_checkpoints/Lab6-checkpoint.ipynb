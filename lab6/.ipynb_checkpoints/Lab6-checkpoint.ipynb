{
 "cells": [
  {
   "cell_type": "markdown",
   "metadata": {},
   "source": [
    "# LAB 6 - Matheus Gomes Maia\n",
    "## ATIVIDADE\n",
    "\n",
    "\n",
    "* 1-Reconstruir o índice considerando o conjunto de dados que indicamos. Esses são os dados coletados por Bernardi e os estaremos usando para facilitar a correção da atividade. Se você já estiver usando esses dados não precisa reconstruir o índice;\n",
    "\n",
    "* 2-Refinar o índice invertido de forma a também incluir o IDF (inverse document frequency) de cada termo do dicionário; (10 pts)\n",
    "\n",
    "* 3-Implementar as seguintes versões do modelo vetorial:(10 pts)\n",
    "  * Representação binária;\n",
    "  * TF (lembre-se que esse modelo já está implementado);\n",
    "  * TF-IDF;\n",
    "  * BM25* (não usaremos Okapi já que os documentos não tem grande variação de tamanho).\n",
    "\n",
    "* 4-Execute os algoritmos separadamente em 3 consultas de sua escolha e retorne os top-5 documentos mais similares à cada consulta; (10 pts)\n",
    "\n",
    "* 5-Compare os resultados encontrados e responda. (20 pts)\n",
    "\n",
    "    * 5.1-Quais modelos você acha que trouxe os melhores resultados? Por que? Inspecione os documentos retornados para melhor embasar sua resposta.\n",
    "    * 5.2 Calcule e reporte o overlap par-a-par entre os resultados de cada modelo (usando o índice de Jaccard (Links to an external site.)Links to an external site.)\n",
    "\n",
    "* Teste alguns valores diferentes de k e reporte como os resultados foram afetados.\n",
    "\n"
   ]
  },
  {
   "cell_type": "markdown",
   "metadata": {},
   "source": [
    "## SETUP"
   ]
  },
  {
   "cell_type": "code",
   "execution_count": 1,
   "metadata": {},
   "outputs": [
    {
     "name": "stderr",
     "output_type": "stream",
     "text": [
      "[nltk_data] Downloading package punkt to /home/maia/nltk_data...\n",
      "[nltk_data]   Package punkt is already up-to-date!\n",
      "[nltk_data] Downloading package stopwords to /home/maia/nltk_data...\n",
      "[nltk_data]   Package stopwords is already up-to-date!\n"
     ]
    },
    {
     "data": {
      "text/plain": [
       "True"
      ]
     },
     "execution_count": 1,
     "metadata": {},
     "output_type": "execute_result"
    }
   ],
   "source": [
    "import pandas as pd\n",
    "import numpy as np\n",
    "import matplotlib.pyplot as plt\n",
    "import nltk\n",
    "import string\n",
    "import math\n",
    "import re\n",
    "from scipy.optimize import minimize_scalar\n",
    "import seaborn as sns\n",
    "from nltk.corpus import stopwords\n",
    "import operator\n",
    "\n",
    "pd.set_option(\"display.max_rows\",40)\n",
    "\n",
    "%matplotlib inline\n",
    "nltk.download('punkt')\n",
    "\n",
    "nltk.download('stopwords')"
   ]
  },
  {
   "cell_type": "markdown",
   "metadata": {},
   "source": [
    "## 1-Reconstruir o índice considerando o conjunto de dados que indicamos. Esses são os dados coletados por Bernardi e os estaremos usando para facilitar a correção da atividade. Se você já estiver usando esses dados não precisa reconstruir o índice;"
   ]
  },
  {
   "cell_type": "code",
   "execution_count": 24,
   "metadata": {},
   "outputs": [],
   "source": [
    "data = pd.read_csv('../results_fornecida.csv')\n",
    "data = data.drop_duplicates(subset='url', keep='last')\n",
    "\n",
    "\n",
    "#Pre process news\n",
    "# Tokenize, Join and Filter\n",
    "# Words into a new data Frame\n",
    "txt = [str(news) for news in data[\"text\"].tolist()]\n",
    "words = [nltk.word_tokenize(sentence) for sentence in txt]\n",
    "words = [item for sublist in words for item in sublist] \n",
    "words = [word.lower() for word in words if (word.isalpha() and len(word)) > 2] \n",
    "\n",
    "# New Data frame with Word, Frequency and Ranking columns \n",
    "words_df = pd.DataFrame(words, columns=['word']) #All words\n",
    "word_counts = words_df.word.value_counts().reset_index() #Join by word. Adds Frequency\n",
    "word_counts.columns = ['Word', 'Freq'] #Naming columns \n",
    "word_counts['word_rank'] = word_counts.Freq.rank(ascending=False) #Adds ranking\n",
    "\n",
    "def parse(news):\n",
    "    words = [nltk.word_tokenize(news)]\n",
    "    words = [item for sublist in words for item in sublist] \n",
    "    words = [word.lower() for word in words if (word.isalpha() and len(word)) > 2]\n",
    "    return words\n",
    "    \n",
    "\n",
    "def buidIndexTF(txt):\n",
    "    I = {}\n",
    "    n = 0\n",
    "    for news in txt:\n",
    "        T = parse(news)\n",
    "        for token in set(T):\n",
    "            if(token not in I.keys()):\n",
    "                I[token] = [(n, T.count(token))]\n",
    "            else:\n",
    "                I[token].append((n, T.count(token)))\n",
    "        n += 1\n",
    "    return I\n",
    "\n",
    "invIndexTF = buidIndexTF(txt)"
   ]
  },
  {
   "cell_type": "markdown",
   "metadata": {},
   "source": [
    "## 2-Refinar o índice invertido de forma a também incluir o IDF (inverse document frequency) de cada termo do dicionário; (10 pts)\n",
    "\n",
    "IDF(W) = log[(M+1)/k]"
   ]
  },
  {
   "cell_type": "code",
   "execution_count": 22,
   "metadata": {},
   "outputs": [],
   "source": [
    "def parse(news):\n",
    "    words = [nltk.word_tokenize(news)]\n",
    "    words = [item for sublist in words for item in sublist] \n",
    "    words = [word.lower() for word in words if (word.isalpha() and len(word)) > 2]\n",
    "    return words\n",
    "    \n",
    "def idf(M, k):\n",
    "    return math.log((M+1)/k)\n",
    "    \n",
    "M = len(txt)\n",
    "def buidIndexTFIDF(txt):\n",
    "    I = {}\n",
    "    n = 0\n",
    "    for news in txt:\n",
    "        T = parse(news)\n",
    "        for token in set(T):\n",
    "            k = T.count(token)\n",
    "            if(token not in I.keys()):\n",
    "                I[token] = [(n, k, idf(M, k))]\n",
    "            else:\n",
    "                I[token].append((n, k, idf(M, k)))\n",
    "        n += 1\n",
    "    return I\n",
    "\n",
    "indexTFIDF = buidIndexTFIDF(txt)"
   ]
  },
  {
   "cell_type": "code",
   "execution_count": 23,
   "metadata": {},
   "outputs": [
    {
     "data": {
      "text/plain": [
       "[(0, 2, 4.8283137373023015), (1, 1, 5.521460917862246)]"
      ]
     },
     "execution_count": 23,
     "metadata": {},
     "output_type": "execute_result"
    }
   ],
   "source": [
    "indexTFIDF[\"juíza\"]"
   ]
  },
  {
   "cell_type": "markdown",
   "metadata": {},
   "source": [
    "##  3-Implementar as seguintes versões do modelo vetorial:(10 pts)\n",
    "  * Representação binária;\n",
    "  * TF (lembre-se que esse modelo já está implementado);\n",
    "  * TF-IDF;\n",
    "  * BM25* (não usaremos Okapi já que os documentos não tem grande variação de tamanho).\n"
   ]
  },
  {
   "cell_type": "code",
   "execution_count": 8,
   "metadata": {},
   "outputs": [
    {
     "data": {
      "text/plain": [
       "[0, 1]"
      ]
     },
     "execution_count": 8,
     "metadata": {},
     "output_type": "execute_result"
    }
   ],
   "source": [
    "#REPRESENTAÇÃO BINÁRIA\n",
    "def buidBinaryIndex(txt):\n",
    "    I = {}\n",
    "    n = 0\n",
    "    for news in txt:\n",
    "        T = parse(news)\n",
    "        for token in set(T):\n",
    "            k = T.count(token)\n",
    "            if(token not in I.keys()):\n",
    "                I[token] = [(n)]\n",
    "            else:\n",
    "                I[token].append((n))\n",
    "        n += 1\n",
    "    return I\n",
    "\n",
    "binaryIndex = buidBinaryIndex(txt)\n",
    "binaryIndex[\"juíza\"]"
   ]
  },
  {
   "cell_type": "code",
   "execution_count": 66,
   "metadata": {},
   "outputs": [],
   "source": [
    "def termAtTimeBinary(Q, Inv, k):\n",
    "    L = { key: Inv[key] for key in Q if key in Inv.keys() } #Filtra entrys de interesse no IndexInvertido\n",
    "    R = {}\n",
    "    for term in set(L.keys()): # Para cada termo\n",
    "            for doc in L[term]: #  Itera pelos docs que tem o termo\n",
    "                R[doc] = 1\n",
    "                \n",
    "                \n",
    "    #Return K\n",
    "    if(k > len(R.keys())):\n",
    "        k = len(R.keys())\n",
    "    return (sorted(R, key=lambda k: R[k], reverse=True))[:k]\n",
    "\n",
    "def termAtTimeTF(Q, Inv, k):\n",
    "    L = { key: Inv[key] for key in Q if key in Inv.keys() } #Filtra entrys de interesse no IndexInvertido\n",
    "    R = {}\n",
    "    for term in set(L.keys()): # Para cada termo\n",
    "            for doc in L[term]: #  Itera pelos docs que tem o termo\n",
    "                # Acumula o score\n",
    "                if(doc[0] not in R.keys()):\n",
    "                    R[doc[0]] = doc[1]*Q.count(term)\n",
    "                else:\n",
    "                    R[doc[0]] += doc[1]*Q.count(term)\n",
    "                \n",
    "    #Return K\n",
    "    if(k > len(R.keys())):\n",
    "        k = len(R.keys())\n",
    "    return (sorted(R, key=lambda k: R[k], reverse=True))[:k]\n",
    "\n",
    "\n",
    "\n",
    "def termAtTimeTFIDF(Q, Inv, k):\n",
    "    L = { key: Inv[key] for key in Q if key in Inv.keys() } #Filtra entrys de interesse no IndexInvertido\n",
    "    R = {}\n",
    "    for term in set(L.keys()): # Para cada termo\n",
    "            for doc in L[term]: #  Itera pelos docs que tem o termo\n",
    "                # Acumula o score\n",
    "                if(doc[0] not in R.keys()):\n",
    "                    R[doc[0]] = Q.count(term)*doc[1]*doc[2]\n",
    "                else:\n",
    "                    R[doc[0]] += Q.count(term)*doc[1]*doc[2]\n",
    "                \n",
    "                \n",
    "    #Return K\n",
    "    if(k > len(R.keys())):\n",
    "        k = len(R.keys())\n",
    "    return (sorted(R, key=lambda k: R[k], reverse=True))[:k]\n",
    "\n",
    "\n",
    "Kconst = 3\n",
    "def BM25(Kconst, cwq, cwd, idf):\n",
    "    #print(Kconst, cwq, cwd, idf)\n",
    "    BM25Result = cwd*(((Kconst+1)*cwd)/(cwd + Kconst))*idf\n",
    "    #print(BM25Result)\n",
    "    return BM25Result\n",
    "\n",
    "def termAtTimeBM25(Q, Inv, k):\n",
    "    L = { key: Inv[key] for key in Q if key in Inv.keys() } #Filtra entrys de interesse no IndexInvertido\n",
    "    R = {}\n",
    "    for term in L.keys(): # Para cada termo\n",
    "            for doc in L[term]: #  Itera pelos docs que tem o termo\n",
    "                # Acumula o score\n",
    "                if(doc[0] not in R.keys()):\n",
    "                    R[doc[0]] = BM25(Kconst, Q.count(term), doc[1], doc[2])\n",
    "                else:\n",
    "                    R[doc[0]] += BM25(Kconst, Q.count(term), doc[1], doc[2])\n",
    "                \n",
    "                \n",
    "    #Return K\n",
    "    if(k > len(R.keys())):\n",
    "        k = len(R.keys())\n",
    "    return (sorted(R, key=lambda k: R[k], reverse=True))[:k]\n"
   ]
  },
  {
   "cell_type": "markdown",
   "metadata": {},
   "source": [
    "## 4-Execute os algoritmos separadamente em 3 consultas de sua escolha e retorne os top-5 documentos mais similares à cada consulta; (10 pts)\n"
   ]
  },
  {
   "cell_type": "code",
   "execution_count": 69,
   "metadata": {},
   "outputs": [
    {
     "name": "stdout",
     "output_type": "stream",
     "text": [
      "BINARY\n",
      "[0, 1, 213, 150, 6]\n",
      "TF\n",
      "[150, 206, 165, 18, 21]\n",
      "TF-IDF\n",
      "[150, 206, 165, 21, 18]\n",
      "BM25\n",
      "[150, 206, 165, 18, 21]\n",
      "BINARY\n",
      "[0, 2, 4, 5, 7]\n",
      "TF\n",
      "[150, 165, 172, 207, 106]\n",
      "TF-IDF\n",
      "[150, 165, 172, 106, 207]\n",
      "BM25\n",
      "[150, 165, 172, 207, 106]\n",
      "BINARY\n",
      "[0, 1, 2, 3, 4]\n",
      "TF\n",
      "[248, 68, 62, 165, 150]\n",
      "TF-IDF\n",
      "[68, 248, 150, 165, 62]\n",
      "BM25\n",
      "[248, 68, 150, 165, 62]\n"
     ]
    }
   ],
   "source": [
    "querys = [\"bolsonaro armas\", \"inglaterra país\", \"quanto com dele israel\"]\n",
    "\n",
    "#BINARY\n",
    "for query in querys:\n",
    "    print(\"BINARY\")\n",
    "    print(termAtTimeBinary(query.split(), binaryIndex, 5))\n",
    "    \n",
    "    print(\"TF\")\n",
    "    print(termAtTimeTF(query.split(), invIndexTF, 5))\n",
    "    \n",
    "    print(\"TF-IDF\")\n",
    "    print(termAtTimeTFIDF(query.split(), indexTFIDF, 5))\n",
    "    \n",
    "    print(\"BM25\")\n",
    "    print(termAtTimeBM25(query.split(), indexTFIDF, 5))\n",
    "    \n",
    "    print()"
   ]
  },
  {
   "cell_type": "markdown",
   "metadata": {},
   "source": [
    "## 5-Compare os resultados encontrados e responda. (20 pts)\n",
    "\n",
    "    * 5.1-Quais modelos você acha que trouxe os melhores resultados? Por que? Inspecione os documentos retornados para melhor embasar sua resposta.\n",
    "    * 5.2 Calcule e reporte o overlap par-a-par entre os resultados de cada modelo (usando o índice de Jaccard (Links to an external site.)Links to an external site.)"
   ]
  },
  {
   "cell_type": "code",
   "execution_count": null,
   "metadata": {},
   "outputs": [],
   "source": []
  }
 ],
 "metadata": {
  "kernelspec": {
   "display_name": "lab2env",
   "language": "python",
   "name": "lab2env"
  },
  "language_info": {
   "codemirror_mode": {
    "name": "ipython",
    "version": 3
   },
   "file_extension": ".py",
   "mimetype": "text/x-python",
   "name": "python",
   "nbconvert_exporter": "python",
   "pygments_lexer": "ipython3",
   "version": "3.5.2"
  }
 },
 "nbformat": 4,
 "nbformat_minor": 2
}
