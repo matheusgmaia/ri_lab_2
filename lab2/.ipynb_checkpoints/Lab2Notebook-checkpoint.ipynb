{
 "cells": [
  {
   "cell_type": "markdown",
   "metadata": {},
   "source": [
    "# LAB 2 - Matheus Gomes Maia\n",
    "## ATIVIDADE\n",
    "* 1 Reproduza a tabela 4.1 do livro texto calculando as estatísticas para sua coleção (5 pts).\n",
    "* 2 Reproduza a tabela 4.2 do livro considerando as top-50 palavras mais frequentes de sua coleção (5 pts). \n",
    "* 3 Plote curvas de rank-frequência (usando escala logarítmica) para palavras e bigramas na coleção que você coletou na atividade anterior. Quais os melhores valores do parâmetro c para cada curva (5 pts)?\n",
    "* 4 Reproduza a tabela 4.5 do livro texto considerando a sua coleção (5 pts)."
   ]
  },
  {
   "cell_type": "code",
   "execution_count": 1,
   "metadata": {},
   "outputs": [
    {
     "name": "stderr",
     "output_type": "stream",
     "text": [
      "[nltk_data] Downloading package punkt to /home/maia/nltk_data...\n",
      "[nltk_data]   Package punkt is already up-to-date!\n"
     ]
    },
    {
     "data": {
      "text/plain": [
       "True"
      ]
     },
     "execution_count": 1,
     "metadata": {},
     "output_type": "execute_result"
    }
   ],
   "source": [
    "import pandas as pd\n",
    "import numpy as np\n",
    "import matplotlib.pyplot as plt\n",
    "import nltk\n",
    "import string\n",
    "import re\n",
    "from scipy.optimize import minimize_scalar\n",
    "import seaborn as sns\n",
    "pd.set_option(\"display.max_rows\",40)\n",
    "\n",
    "%matplotlib inline\n",
    "nltk.download('punkt')"
   ]
  },
  {
   "cell_type": "markdown",
   "metadata": {},
   "source": [
    "## Load Data"
   ]
  },
  {
   "cell_type": "code",
   "execution_count": 2,
   "metadata": {},
   "outputs": [],
   "source": [
    "#Load all news\n",
    "data = pd.read_csv('results.csv')\n",
    "data= data.drop_duplicates(subset='url', keep='last')\n",
    "\n",
    "\n",
    "#Pre process news\n",
    "# Tokenize, Join and Filter\n",
    "# Words into a new data Frame\n",
    "txt = [str(news) for news in data[\"text\"].tolist()]\n",
    "words = [nltk.word_tokenize(sentence) for sentence in txt]\n",
    "words = [item for sublist in words for item in sublist] \n",
    "words=[word.lower() for word in words if (word.isalpha())] \n",
    "\n",
    "# New Data frame with Word, Frequency and Ranking columns \n",
    "words_df = pd.DataFrame(words, columns=['word']) #All words\n",
    "word_counts = words_df.word.value_counts().reset_index() #Join by word. Adds Frequency\n",
    "word_counts.columns = ['Word', 'Freq'] #Naming columns \n",
    "word_counts['word_rank'] = word_counts.Freq.rank(ascending=False) #Adds ranking"
   ]
  },
  {
   "cell_type": "markdown",
   "metadata": {},
   "source": [
    "## 1 Reproduza a tabela 4.1 do livro texto calculando as estatísticas para sua coleção (5 pts)."
   ]
  },
  {
   "cell_type": "code",
   "execution_count": 3,
   "metadata": {},
   "outputs": [
    {
     "name": "stdout",
     "output_type": "stream",
     "text": [
      "Total Documents --------------- 129\n",
      "Total word occurrences -------- 32889\n",
      "Vocabary Size ----------------- 8651\n",
      "Words ocurring > 1000 times --- 0\n",
      "Words ocurring once ----------- 4504\n"
     ]
    }
   ],
   "source": [
    "#Calculate\n",
    "total = len(txt) \n",
    "total_words = len(words)\n",
    "vocabulary_size = len(word_counts)\n",
    "words_thousand = len(word_counts[word_counts['Freq'] > 1000])\n",
    "words_once = len(word_counts[word_counts['Freq'] == 1])\n",
    "\n",
    "#Print\n",
    "labels = [\"Total Documents\", \"Total word occurrences\", \"Vocabary Size\", \"Words ocurring > 1000 times\", \"Words ocurring once\"]\n",
    "values = [total, total_words, vocabulary_size, words_thousand, words_once]\n",
    "for i in range(len(values)):\n",
    "    print(labels[i], (30-len(labels[i]))*\"-\", values[i])"
   ]
  },
  {
   "cell_type": "markdown",
   "metadata": {},
   "source": [
    "## 2 Reproduza a tabela 4.2 do livro considerando as top-50 palavras mais frequentes de sua coleção (5 pts). "
   ]
  },
  {
   "cell_type": "code",
   "execution_count": 4,
   "metadata": {},
   "outputs": [
    {
     "name": "stdout",
     "output_type": "stream",
     "text": [
      "                  Word  Freq  word_rank  Prob. Per cent      Prob\n",
      "0                 para   748        1.0        2.274317  0.022743\n",
      "1                 mais   276        2.0        0.839186  0.008392\n",
      "2                 como   246        3.0        0.747970  0.007480\n",
      "3                disse   193        4.0        0.586822  0.005868\n",
      "4               também   176        5.0        0.535133  0.005351\n",
      "5              governo   150        6.0        0.456080  0.004561\n",
      "6                 pela   148        7.0        0.449998  0.004500\n",
      "7                sobre   144        8.0        0.437836  0.004378\n",
      "8                 está   140        9.0        0.425674  0.004257\n",
      "9           presidente   139       10.0        0.422634  0.004226\n",
      "10                pelo   129       11.0        0.392228  0.003922\n",
      "11               entre   113       12.0        0.343580  0.003436\n",
      "12               ainda    99       13.0        0.301012  0.003010\n",
      "13                isso    98       14.0        0.297972  0.002980\n",
      "14             pessoas    94       15.0        0.285810  0.002858\n",
      "15             segundo    91       16.0        0.276688  0.002767\n",
      "16                país    89       17.0        0.270607  0.002706\n",
      "17           bolsonaro    86       18.0        0.261486  0.002615\n",
      "18                anos    75       19.0        0.228040  0.002280\n",
      "19               estão    74       20.0        0.224999  0.002250\n",
      "...                ...   ...        ...             ...       ...\n",
      "8631          américas     1     6399.5        0.003041  0.000030\n",
      "8632         navegação     1     6399.5        0.003041  0.000030\n",
      "8633         suspender     1     6399.5        0.003041  0.000030\n",
      "8634          silêncio     1     6399.5        0.003041  0.000030\n",
      "8635        realizando     1     6399.5        0.003041  0.000030\n",
      "8636         marielena     1     6399.5        0.003041  0.000030\n",
      "8637      incendiários     1     6399.5        0.003041  0.000030\n",
      "8638  endocrinologista     1     6399.5        0.003041  0.000030\n",
      "8639         envolverá     1     6399.5        0.003041  0.000030\n",
      "8640         escurecer     1     6399.5        0.003041  0.000030\n",
      "8641       quitandinha     1     6399.5        0.003041  0.000030\n",
      "8642            spread     1     6399.5        0.003041  0.000030\n",
      "8643          suicídio     1     6399.5        0.003041  0.000030\n",
      "8644         variedade     1     6399.5        0.003041  0.000030\n",
      "8645           paixões     1     6399.5        0.003041  0.000030\n",
      "8646             olhos     1     6399.5        0.003041  0.000030\n",
      "8647        ditatorial     1     6399.5        0.003041  0.000030\n",
      "8648        promovendo     1     6399.5        0.003041  0.000030\n",
      "8649         obstáculo     1     6399.5        0.003041  0.000030\n",
      "8650            bacana     1     6399.5        0.003041  0.000030\n",
      "\n",
      "[8651 rows x 5 columns]\n"
     ]
    }
   ],
   "source": [
    "# Prob = Frequency/Total of words\n",
    "word_counts['Prob. Per cent'] = (word_counts.Freq/total_words)*100\n",
    "word_counts['Prob'] = word_counts.Freq/total_words\n",
    "\n",
    "print(word_counts)"
   ]
  },
  {
   "cell_type": "markdown",
   "metadata": {},
   "source": [
    "## 3 Plote curvas de rank-frequência (usando escala logarítmica) para palavras e bigramas na coleção que você coletou na atividade anterior. Quais os melhores valores do parâmetro c para cada curva (5 pts)?"
   ]
  },
  {
   "cell_type": "code",
   "execution_count": 5,
   "metadata": {},
   "outputs": [],
   "source": [
    "#Brigrams\n",
    "# Nltk to produce bigrams and join both words\n",
    "bigrm = [' '.join(b) for b in list(nltk.bigrams(words))]\n",
    "bigrm_df = pd.DataFrame(bigrm, columns=['bigrm'])\n",
    "\n",
    "# New Data Frame with bigram, frequency and ranking\n",
    "bigrm_counts = bigrm_df.bigrm.value_counts().reset_index()\n",
    "bigrm_counts.columns = ['bigrm', 'Freq']\n",
    "bigrm_counts['bigrm_rank'] = bigrm_counts.Freq.rank(ascending=False)\n",
    "bigrm_counts['Prob'] = bigrm_counts.Freq/total_words\n",
    "\n",
    "# print(bigrm_counts)"
   ]
  },
  {
   "cell_type": "code",
   "execution_count": 6,
   "metadata": {},
   "outputs": [],
   "source": [
    "#Find best C usig only mean\n",
    "word_counts['rPr'] = (word_counts.word_rank*word_counts.Prob)\n",
    "bigrm_counts['rPr'] = (bigrm_counts.bigrm_rank*bigrm_counts.Prob)\n",
    "\n",
    "\n",
    "word_counts['C'] = np.mean(word_counts.rPr) / word_counts.Prob\n",
    "bigrm_counts['C'] = np.mean(bigrm_counts.rPr) / bigrm_counts.Prob\n"
   ]
  },
  {
   "cell_type": "code",
   "execution_count": 7,
   "metadata": {},
   "outputs": [
    {
     "data": {
      "text/plain": [
       "<matplotlib.axes._subplots.AxesSubplot at 0x7f04aa3da588>"
      ]
     },
     "execution_count": 7,
     "metadata": {},
     "output_type": "execute_result"
    },
    {
     "data": {
      "image/png": "[encoded data removed]",
      "text/plain": [
       "<Figure size 504x504 with 1 Axes>"
      ]
     },
     "metadata": {
      "needs_background": "light"
     },
     "output_type": "display_data"
    },
    {
     "data": {
      "image/png": "[encoded data removed]",
      "text/plain": [
       "<Figure size 504x504 with 1 Axes>"
      ]
     },
     "metadata": {
      "needs_background": "light"
     },
     "output_type": "display_data"
    }
   ],
   "source": [
    "#Plot Rank - Frequency\n",
    "f, ax = plt.subplots(figsize=(7, 7))\n",
    "ax.set(xscale=\"log\", yscale=\"log\")\n",
    "sns.regplot(\"Freq\", \"word_rank\", word_counts, ax=ax, scatter_kws={\"s\": 100})\n",
    "sns.lineplot(word_counts['Freq'], word_counts['C'])\n",
    "\n",
    "f, ax = plt.subplots(figsize=(7, 7))\n",
    "ax.set(xscale=\"log\", yscale=\"log\")\n",
    "sns.regplot(\"Freq\", \"bigrm_rank\", bigrm_counts, ax=ax, scatter_kws={\"s\": 100})\n",
    "sns.lineplot(bigrm_counts['Freq'], bigrm_counts['C'])"
   ]
  },
  {
   "cell_type": "code",
   "execution_count": 9,
   "metadata": {},
   "outputs": [],
   "source": [
    "#Fuction used to calculate Zipf's law coefficient (Not the c, but as usefull)\n",
    "def loglik(b):  \n",
    "    # Power law function\n",
    "    Probabilities = freq_c**(-b)\n",
    "\n",
    "    # Normalized\n",
    "    Probabilities = Probabilities/Probabilities.sum()\n",
    "\n",
    "    # Log Likelihoood\n",
    "    Lvector = np.log(Probabilities)\n",
    "\n",
    "    # Multiply the vector by frequencies\n",
    "    Lvector = np.log(Probabilities) * freq_word_counts\n",
    "\n",
    "    # LL is the sum\n",
    "    L = Lvector.sum()\n",
    "\n",
    "    # We want to maximize LogLikelihood or minimize (-1)*LogLikelihood\n",
    "    return(-L)"
   ]
  },
  {
   "cell_type": "code",
   "execution_count": 10,
   "metadata": {},
   "outputs": [
    {
     "name": "stdout",
     "output_type": "stream",
     "text": [
      "Melhor valor do parâmetro fa lei de Zipf para palavras soltas é:  1.8183118015940865\n"
     ]
    },
    {
     "data": {
      "image/png": "[encoded data removed]",
      "text/plain": [
       "<Figure size 432x288 with 1 Axes>"
      ]
     },
     "metadata": {
      "needs_background": "light"
     },
     "output_type": "display_data"
    }
   ],
   "source": [
    "# Group all words with same freq\n",
    "word_counts_new = word_counts.filter(['Freq','Word'], axis=1)\n",
    "word_counts_new_group = word_counts_new.groupby(['Freq'], as_index=False).count()\n",
    "\n",
    "# Lists of frequencys and number of words for each frequency\n",
    "freq_c = np.asarray(word_counts_new_group['Freq'])\n",
    "freq_word_counts = np.asarray(word_counts_new_group['Word'])\n",
    "\n",
    "# Find best c\n",
    "s_best = minimize_scalar(loglik, [0.01, 4.0] )\n",
    "\n",
    "\n",
    "f,ax = plt.subplots()\n",
    "ax.scatter(freq_c, freq_word_counts, label = \"data\")\n",
    "ax.set_xlabel('Word frequency')\n",
    "ax.set_ylabel('Number of such words')\n",
    "ax.set_xscale(\"log\")\n",
    "ax.set_yscale(\"log\")\n",
    "\n",
    "\n",
    "ax.plot(freq_c[0:2*10**2], 4*10**4*freq_c[0:2*10**2]**-s_best.x, '--', color=\"orange\", lw=3, label = \"fitted MLE\")\n",
    "ax.legend()\n",
    "print(\"Melhor valor do parâmetro fa lei de Zipf para palavras soltas é: \", s_best.x)"
   ]
  },
  {
   "cell_type": "code",
   "execution_count": 11,
   "metadata": {},
   "outputs": [
    {
     "name": "stdout",
     "output_type": "stream",
     "text": [
      "Melhor valor do parâmetro da lei de Zipf para bigramas é:  3.9817601847299113\n"
     ]
    },
    {
     "data": {
      "image/png": "[encoded data removed]",
      "text/plain": [
       "<Figure size 432x288 with 1 Axes>"
      ]
     },
     "metadata": {
      "needs_background": "light"
     },
     "output_type": "display_data"
    }
   ],
   "source": [
    "# Group all bigrams with same freq\n",
    "bigrm_counts_new = bigrm_counts.filter(['Freq','bigrm'], axis=1)\n",
    "bigrm_counts_new_group = bigrm_counts_new.groupby(['Freq'], as_index=False).count()\n",
    "\n",
    "# Lists of frequencys and number of bigrams for each frequency\n",
    "freq_c = np.asarray(bigrm_counts_new_group['Freq'])\n",
    "freq_word_counts = np.asarray(bigrm_counts_new_group['bigrm'])\n",
    "\n",
    "# Find best  zipf constant\n",
    "s_best = minimize_scalar(loglik, [0.01, 4.0] )\n",
    "\n",
    "#Plot\n",
    "f,ax = plt.subplots()\n",
    "ax.scatter(freq_c, freq_word_counts, label = \"data\")\n",
    "ax.set_xlabel('Frequency')\n",
    "ax.set_ylabel('Number of such words')\n",
    "ax.set_xscale(\"log\")\n",
    "ax.set_yscale(\"log\")\n",
    "ax.plot(freq_c[0:2*10**2], 4*10**4*freq_c[0:2*10**2]**-s_best.x, '--', color=\"orange\", lw=3, label = \"fitted MLE\")\n",
    "ax.legend()\n",
    "print(\"Melhor valor do parâmetro da lei de Zipf para bigramas é: \", s_best.x)"
   ]
  },
  {
   "cell_type": "markdown",
   "metadata": {},
   "source": [
    "## 4 Reproduza a tabela 4.5 do livro texto considerando a sua coleção (5 pts)."
   ]
  },
  {
   "cell_type": "code",
   "execution_count": 12,
   "metadata": {},
   "outputs": [
    {
     "name": "stdout",
     "output_type": "stream",
     "text": [
      "    Freq  Word  Predicted Prop  Actual Prop  Actual Number of Words\n",
      "0      1  4504           0.500        0.521                    4504\n",
      "1      2  1524           0.167        0.176                    1524\n",
      "2      3   722           0.083        0.083                     722\n",
      "3      4   436           0.050        0.050                     436\n",
      "4      5   259           0.033        0.030                     259\n",
      "5      6   196           0.024        0.023                     196\n",
      "6      7   144           0.018        0.017                     144\n",
      "7      8   137           0.014        0.016                     137\n",
      "8      9    84           0.011        0.010                      84\n",
      "9     10    64           0.009        0.007                      64\n",
      "10    11    68           0.008        0.008                      68\n",
      "11    12    60           0.006        0.007                      60\n",
      "12    13    44           0.005        0.005                      44\n",
      "13    14    43           0.005        0.005                      43\n",
      "14    15    36           0.004        0.004                      36\n",
      "15    16    29           0.004        0.003                      29\n",
      "16    17    27           0.003        0.003                      27\n",
      "17    18    20           0.003        0.002                      20\n",
      "18    19    17           0.003        0.002                      17\n",
      "19    20    15           0.002        0.002                      15\n",
      "..   ...   ...             ...          ...                     ...\n",
      "68    74     1           0.000        0.000                       1\n",
      "69    75     1           0.000        0.000                       1\n",
      "70    86     1           0.000        0.000                       1\n",
      "71    89     1           0.000        0.000                       1\n",
      "72    91     1           0.000        0.000                       1\n",
      "73    94     1           0.000        0.000                       1\n",
      "74    98     1           0.000        0.000                       1\n",
      "75    99     1           0.000        0.000                       1\n",
      "76   113     1           0.000        0.000                       1\n",
      "77   129     1           0.000        0.000                       1\n",
      "78   139     1           0.000        0.000                       1\n",
      "79   140     1           0.000        0.000                       1\n",
      "80   144     1           0.000        0.000                       1\n",
      "81   148     1           0.000        0.000                       1\n",
      "82   150     1           0.000        0.000                       1\n",
      "83   176     1           0.000        0.000                       1\n",
      "84   193     1           0.000        0.000                       1\n",
      "85   246     1           0.000        0.000                       1\n",
      "86   276     1           0.000        0.000                       1\n",
      "87   748     1           0.000        0.000                       1\n",
      "\n",
      "[88 rows x 5 columns]\n"
     ]
    }
   ],
   "source": [
    "# Group by Freq\n",
    "word_counts_new = word_counts.filter(['Freq','Word'], axis=1)\n",
    "word_counts_groupby = word_counts_new.groupby(['Freq'], as_index=False).count()\n",
    "\n",
    "#Add new columns \n",
    "word_counts_groupby['Predicted Prop'] = 1/(word_counts_groupby.Freq*(word_counts_groupby.Freq+1))\n",
    "word_counts_groupby['Actual Prop'] = word_counts_groupby.Word/vocabulary_size\n",
    "word_counts_groupby['Actual Number of Words'] = word_counts_groupby.Word\n",
    "\n",
    "#Print\n",
    "pd.set_option('display.float_format', lambda x: '%.3f' % x)\n",
    "print(word_counts_groupby)"
   ]
  }
 ],
 "metadata": {
  "kernelspec": {
   "display_name": "lab2env",
   "language": "python",
   "name": "lab2env"
  },
  "language_info": {
   "codemirror_mode": {
    "name": "ipython",
    "version": 3
   },
   "file_extension": ".py",
   "mimetype": "text/x-python",
   "name": "python",
   "nbconvert_exporter": "python",
   "pygments_lexer": "ipython3",
   "version": "3.5.2"
  }
 },
 "nbformat": 4,
 "nbformat_minor": 2
}
